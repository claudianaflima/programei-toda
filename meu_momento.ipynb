{
  "nbformat": 4,
  "nbformat_minor": 0,
  "metadata": {
    "colab": {
      "name": "meu_momento.ipynb",
      "provenance": [],
      "collapsed_sections": []
    },
    "kernelspec": {
      "name": "python3",
      "display_name": "Python 3"
    }
  },
  "cells": [
    {
      "cell_type": "markdown",
      "metadata": {
        "id": "KvOnUMwziQE-",
        "colab_type": "text"
      },
      "source": [
        "# Introdução a Python, Github e Google Colab\n",
        "*Seu momento Pylady é agora!*\n",
        "\n",
        "<img src=\"https://media.giphy.com/media/Pd8Bf06Sas4yQ/giphy.gif\">\n"
      ]
    },
    {
      "cell_type": "markdown",
      "metadata": {
        "id": "7LT6A5LzmQIB",
        "colab_type": "text"
      },
      "source": [
        "## Variáveis\n",
        "Lugares onde salvamos informações\n",
        "\n",
        "*O que sabemos sobre o grupo Pyladies Paraíba?*\n"
      ]
    },
    {
      "cell_type": "code",
      "metadata": {
        "id": "gLd_nqCgfvV4",
        "colab_type": "code",
        "colab": {}
      },
      "source": [
        "nome = 'Pyladies Paraíba'\n",
        "anoCriacao = 2018\n",
        "qtdIntegrantes = 90\n",
        "trilhaSonora = 'Calcinha Preta'"
      ],
      "execution_count": 0,
      "outputs": []
    },
    {
      "cell_type": "markdown",
      "metadata": {
        "id": "f6Ln4WNIjbKX",
        "colab_type": "text"
      },
      "source": [
        "Para imprimir uma variável voce pode usar a função `print()` \n",
        "\n",
        "ou executar uma célula com o nome da variável que você deseja imprimir.\n",
        "\n"
      ]
    },
    {
      "cell_type": "code",
      "metadata": {
        "id": "D3hO0DtllbPR",
        "colab_type": "code",
        "outputId": "27fbb1f9-52d3-4c5b-d162-276d7223ea77",
        "colab": {
          "base_uri": "https://localhost:8080/",
          "height": 35
        }
      },
      "source": [
        "nome"
      ],
      "execution_count": 0,
      "outputs": [
        {
          "output_type": "execute_result",
          "data": {
            "text/plain": [
              "'Pyladies Paraíba'"
            ]
          },
          "metadata": {
            "tags": []
          },
          "execution_count": 3
        }
      ]
    },
    {
      "cell_type": "code",
      "metadata": {
        "id": "14EHj4wLkDRA",
        "colab_type": "code",
        "outputId": "4f672887-1be9-4232-a056-2305cb42f885",
        "colab": {
          "base_uri": "https://localhost:8080/",
          "height": 35
        }
      },
      "source": [
        "print('O grupo foi criado em', anoCriacao, 'por 2 mulheres incríveis e hoje é formado por', qtdIntegrantes, '.')"
      ],
      "execution_count": 0,
      "outputs": [
        {
          "output_type": "stream",
          "text": [
            "O grupo foi criado em 2018 por 2 mulheres incríveis e hoje é formado por 90 .\n"
          ],
          "name": "stdout"
        }
      ]
    },
    {
      "cell_type": "markdown",
      "metadata": {
        "id": "LGQPoBs8mhdt",
        "colab_type": "text"
      },
      "source": [
        "As variáveis tem um tipo que pode ser verificado com a função `type()`"
      ]
    },
    {
      "cell_type": "code",
      "metadata": {
        "id": "COuC-b5zilA3",
        "colab_type": "code",
        "outputId": "f6ece9c8-2db3-4688-fb41-a7015466dbcb",
        "colab": {
          "base_uri": "https://localhost:8080/",
          "height": 35
        }
      },
      "source": [
        "type(nome)"
      ],
      "execution_count": 0,
      "outputs": [
        {
          "output_type": "execute_result",
          "data": {
            "text/plain": [
              "str"
            ]
          },
          "metadata": {
            "tags": []
          },
          "execution_count": 5
        }
      ]
    },
    {
      "cell_type": "code",
      "metadata": {
        "id": "lnsDKDnvimOZ",
        "colab_type": "code",
        "outputId": "e8cb893f-5aed-47ef-aa3c-6c8ac1ae4f18",
        "colab": {
          "base_uri": "https://localhost:8080/",
          "height": 35
        }
      },
      "source": [
        "type(anoCriacao)"
      ],
      "execution_count": 0,
      "outputs": [
        {
          "output_type": "execute_result",
          "data": {
            "text/plain": [
              "int"
            ]
          },
          "metadata": {
            "tags": []
          },
          "execution_count": 6
        }
      ]
    },
    {
      "cell_type": "code",
      "metadata": {
        "id": "ruMLlVZZnWeO",
        "colab_type": "code",
        "outputId": "4ff1b1e5-8086-4ccb-ee6b-1c998974d9f7",
        "colab": {
          "base_uri": "https://localhost:8080/",
          "height": 35
        }
      },
      "source": [
        "type(80.5)"
      ],
      "execution_count": 0,
      "outputs": [
        {
          "output_type": "execute_result",
          "data": {
            "text/plain": [
              "float"
            ]
          },
          "metadata": {
            "tags": []
          },
          "execution_count": 7
        }
      ]
    },
    {
      "cell_type": "markdown",
      "metadata": {
        "id": "hwkqBCI0mkTK",
        "colab_type": "text"
      },
      "source": [
        "## Tipos de dados\n",
        "Um tipo de dado é a forma de representar aquela informação. \n",
        "\n",
        "No caso, agora vamos representar uma micro playlist de Calcinha Preta.\n",
        "\n",
        "<img src=\"https://i.makeagif.com/media/6-22-2015/_qcn7h.gif\">\n",
        "\n"
      ]
    },
    {
      "cell_type": "code",
      "metadata": {
        "id": "GgwHfVLfmq4h",
        "colab_type": "code",
        "colab": {}
      },
      "source": [
        "playlist = [{\n",
        "\t\t'titulo': 'Hoje a Noite \"Alone\"',\n",
        "\t\t'album': 'Campeões do Forró, Vol 4',\n",
        "\t\t'minutos': 3.32\n",
        "\t},\n",
        "\t{\n",
        "\t\t'titulo': 'Manchete dos Jornais',\n",
        "\t\t'album': 'Campeões do Forró, Vol 5',\n",
        "\t\t'minutos': 3.44\n",
        "\t},\n",
        "\n",
        "\t{\n",
        "\t\t'titulo': 'Louca por Ti',\n",
        "\t\t'album': 'Calcinha Preta, Vol 6',\n",
        "\t\t'minutos': 2.44\n",
        "\t},\n",
        "\t{\n",
        "\t\t'titulo': 'Faço Chover',\n",
        "\t\t'album': 'Calcinha Preta, Edição Especial',\n",
        "\t\t'minutos': 3.53\n",
        "\t},\n",
        "\n",
        "\t{\n",
        "\t\t'titulo': 'Adão e Eva',\n",
        "\t\t'album': 'Calcinha Preta, Vol 13(Ao Vivo)',\n",
        "\t\t'minutos': 4.06\n",
        "\t}]\n",
        "\n",
        "playlist"
      ],
      "execution_count": 0,
      "outputs": []
    },
    {
      "cell_type": "code",
      "metadata": {
        "id": "HaZaMhwiMuRp",
        "colab_type": "code",
        "outputId": "87c48308-abdb-43d0-8b8f-908f9b809fe6",
        "colab": {
          "base_uri": "https://localhost:8080/",
          "height": 34
        }
      },
      "source": [
        "nova_lista = [1, 2, 3]\n",
        "nova_lista"
      ],
      "execution_count": 30,
      "outputs": [
        {
          "output_type": "execute_result",
          "data": {
            "text/plain": [
              "[1, 2, 3]"
            ]
          },
          "metadata": {
            "tags": []
          },
          "execution_count": 30
        }
      ]
    },
    {
      "cell_type": "code",
      "metadata": {
        "id": "FEVURU4TuCyL",
        "colab_type": "code",
        "outputId": "61222ac5-9abc-442f-c18f-be1b256aadf1",
        "colab": {
          "base_uri": "https://localhost:8080/",
          "height": 35
        }
      },
      "source": [
        "type(playlist)"
      ],
      "execution_count": 0,
      "outputs": [
        {
          "output_type": "execute_result",
          "data": {
            "text/plain": [
              "list"
            ]
          },
          "metadata": {
            "tags": []
          },
          "execution_count": 9
        }
      ]
    },
    {
      "cell_type": "markdown",
      "metadata": {
        "id": "MEr9fj8fubmO",
        "colab_type": "text"
      },
      "source": [
        "Lista é um conjunto de itens que podem ser indexados.\n",
        "\n",
        "*Por exemplo, qual é o primeiro item da lista?*"
      ]
    },
    {
      "cell_type": "code",
      "metadata": {
        "id": "4aa7q2mTuVS2",
        "colab_type": "code",
        "outputId": "30759bac-9da4-40ea-d623-463e2a664e6b",
        "colab": {
          "base_uri": "https://localhost:8080/",
          "height": 68
        }
      },
      "source": [
        "playlist[0]"
      ],
      "execution_count": 34,
      "outputs": [
        {
          "output_type": "execute_result",
          "data": {
            "text/plain": [
              "{'album': 'Campeões do Forró, Vol 4',\n",
              " 'minutos': 3.32,\n",
              " 'titulo': 'Hoje a Noite \"Alone\"'}"
            ]
          },
          "metadata": {
            "tags": []
          },
          "execution_count": 34
        }
      ]
    },
    {
      "cell_type": "code",
      "metadata": {
        "id": "7gHiKZCqgMLX",
        "colab_type": "code",
        "colab": {}
      },
      "source": [
        ""
      ],
      "execution_count": 0,
      "outputs": []
    },
    {
      "cell_type": "markdown",
      "metadata": {
        "id": "iPPNKzfmu1ze",
        "colab_type": "text"
      },
      "source": [
        "*Qual é o último?*"
      ]
    },
    {
      "cell_type": "code",
      "metadata": {
        "id": "WbuRHchXupg1",
        "colab_type": "code",
        "outputId": "1214e184-0d38-47d1-f867-257beb1da382",
        "colab": {
          "base_uri": "https://localhost:8080/",
          "height": 35
        }
      },
      "source": [
        "len(playlist)"
      ],
      "execution_count": 0,
      "outputs": [
        {
          "output_type": "execute_result",
          "data": {
            "text/plain": [
              "5"
            ]
          },
          "metadata": {
            "tags": []
          },
          "execution_count": 14
        }
      ]
    },
    {
      "cell_type": "code",
      "metadata": {
        "id": "RqAjxGVEu9yy",
        "colab_type": "code",
        "outputId": "a3abc7cb-afe4-40ed-c460-0559645023a0",
        "colab": {
          "base_uri": "https://localhost:8080/",
          "height": 72
        }
      },
      "source": [
        "playlist[4]"
      ],
      "execution_count": 0,
      "outputs": [
        {
          "output_type": "execute_result",
          "data": {
            "text/plain": [
              "{'album': 'Calcinha Preta, Vol 13 (Ao Vivo)',\n",
              " 'minutos': 3,\n",
              " 'titulo': 'Hoje a Noite \"Alone\"'}"
            ]
          },
          "metadata": {
            "tags": []
          },
          "execution_count": 16
        }
      ]
    },
    {
      "cell_type": "markdown",
      "metadata": {
        "id": "JQhbdWDbvOvL",
        "colab_type": "text"
      },
      "source": [
        "*E o que é aquilo entre as { } ?* "
      ]
    },
    {
      "cell_type": "code",
      "metadata": {
        "id": "epqCxlv4vFL4",
        "colab_type": "code",
        "outputId": "c8d68d39-560c-4752-fb10-047fea717a86",
        "colab": {
          "base_uri": "https://localhost:8080/",
          "height": 35
        }
      },
      "source": [
        "type(playlist[0])"
      ],
      "execution_count": 0,
      "outputs": [
        {
          "output_type": "execute_result",
          "data": {
            "text/plain": [
              "dict"
            ]
          },
          "metadata": {
            "tags": []
          },
          "execution_count": 17
        }
      ]
    },
    {
      "cell_type": "markdown",
      "metadata": {
        "id": "ohmD9kkDvubd",
        "colab_type": "text"
      },
      "source": [
        "Dicionário é um tipo de dado que representa informações do tipo `'chave': valor`\n"
      ]
    },
    {
      "cell_type": "code",
      "metadata": {
        "id": "5Bzk6wh2wSOL",
        "colab_type": "code",
        "outputId": "945f50c0-8ea8-4a4e-ff2c-0510d44eaa99",
        "colab": {
          "base_uri": "https://localhost:8080/",
          "height": 35
        }
      },
      "source": [
        "playlist[0].keys()"
      ],
      "execution_count": 0,
      "outputs": [
        {
          "output_type": "execute_result",
          "data": {
            "text/plain": [
              "dict_keys(['titulo', 'album', 'minutos'])"
            ]
          },
          "metadata": {
            "tags": []
          },
          "execution_count": 18
        }
      ]
    },
    {
      "cell_type": "code",
      "metadata": {
        "id": "U9WEaboqwamq",
        "colab_type": "code",
        "outputId": "9a9df332-b9cb-4aa7-a9ac-71305d197c23",
        "colab": {
          "base_uri": "https://localhost:8080/",
          "height": 35
        }
      },
      "source": [
        "playlist[0].values()"
      ],
      "execution_count": 0,
      "outputs": [
        {
          "output_type": "execute_result",
          "data": {
            "text/plain": [
              "dict_values(['Agora Estou Sofrendo', 'Ao Vivo em Salvador, Vol. 1', 4])"
            ]
          },
          "metadata": {
            "tags": []
          },
          "execution_count": 19
        }
      ]
    },
    {
      "cell_type": "code",
      "metadata": {
        "id": "0EV6Ne0tvfxx",
        "colab_type": "code",
        "outputId": "ec966807-b6aa-4fb3-8d65-409f89c95aa9",
        "colab": {
          "base_uri": "https://localhost:8080/",
          "height": 35
        }
      },
      "source": [
        "playlist[0].get('titulo')"
      ],
      "execution_count": 0,
      "outputs": [
        {
          "output_type": "execute_result",
          "data": {
            "text/plain": [
              "'Agora Estou Sofrendo'"
            ]
          },
          "metadata": {
            "tags": []
          },
          "execution_count": 20
        }
      ]
    },
    {
      "cell_type": "code",
      "metadata": {
        "id": "2xw3ZmU-wNdf",
        "colab_type": "code",
        "outputId": "029a8626-ed5d-4886-bed3-b6a528001fb5",
        "colab": {
          "base_uri": "https://localhost:8080/",
          "height": 35
        }
      },
      "source": [
        "playlist[0].get('nome da musica', 'qualquer coisa - isso n existe')"
      ],
      "execution_count": 0,
      "outputs": [
        {
          "output_type": "execute_result",
          "data": {
            "text/plain": [
              "'qualquer coisa - isso n existe'"
            ]
          },
          "metadata": {
            "tags": []
          },
          "execution_count": 22
        }
      ]
    },
    {
      "cell_type": "markdown",
      "metadata": {
        "id": "iXKdiFWFmxD_",
        "colab_type": "text"
      },
      "source": [
        "## Repetindo coisas\n",
        "\n",
        "*Podemos listar quais são as músicas que descrevemos?*"
      ]
    },
    {
      "cell_type": "code",
      "metadata": {
        "id": "bATdyzhem6Eq",
        "colab_type": "code",
        "outputId": "185951e9-e895-42a0-9dc0-469cbd71dda8",
        "colab": {
          "base_uri": "https://localhost:8080/",
          "height": 311
        }
      },
      "source": [
        "for musica in playlist:\n",
        "  print(\"\") \n",
        "  print(musica.get('titulo'), 'com duração de', musica.get('minutos'), 'minutos')\n",
        "  print('Albúm:', musica.get('album'))"
      ],
      "execution_count": 0,
      "outputs": [
        {
          "output_type": "stream",
          "text": [
            "\n",
            "Agora Estou Sofrendo com duração de 4 minutos\n",
            "Albúm: Ao Vivo em Salvador, Vol. 1\n",
            "\n",
            "Cobertor com duração de 4 minutos\n",
            "Albúm: Ao Vivo em Salvador, Vol. 1\n",
            "\n",
            "Refém com duração de 3 minutos\n",
            "Albúm: Ao Vivo em Salvador, Vol. 1\n",
            "\n",
            "Fique Amor com duração de 3 minutos\n",
            "Albúm: Calcinha Preta, Vol. 10\n",
            "\n",
            "Hoje a Noite \"Alone\" com duração de 3 minutos\n",
            "Albúm: Calcinha Preta, Vol 13 (Ao Vivo)\n",
            "ERROR! Session/line number was not unique in database. History logging moved to new session 60\n"
          ],
          "name": "stdout"
        }
      ]
    },
    {
      "cell_type": "markdown",
      "metadata": {
        "id": "-l-c1CLZmrue",
        "colab_type": "text"
      },
      "source": [
        "## Funções\n",
        "\n",
        "Nós já vimos algumas hoje!\n",
        "\n",
        "- `<dict>.keys()`\n",
        "- `<dict>.get()`\n",
        "- `len()`"
      ]
    },
    {
      "cell_type": "markdown",
      "metadata": {
        "id": "E3pPTHrJybKj",
        "colab_type": "text"
      },
      "source": [
        "# Próximos passos:\n",
        "\n",
        "Vamos compartilhar aqui os materiais e cursos que usamos? Vou começar hein...\n",
        "- [Python para Zumbis](https://www.pycursos.com/python-para-zumbis/)\n",
        "- [Guia do mochileiro ~das galáxias~ de Python](https://python-guide-pt-br.readthedocs.io/pt_BR/latest/)\n",
        "- [Pense em python](https://penseallen.github.io/PensePython2e/)\n",
        "\n",
        "\n",
        "\n"
      ]
    }
  ]
}